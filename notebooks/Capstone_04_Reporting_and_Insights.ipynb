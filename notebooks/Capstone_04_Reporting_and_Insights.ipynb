{
 "cells": [
  {
   "cell_type": "code",
   "execution_count": 11,
   "id": "ca5426f0-d49f-4e64-aa0d-f963963d40ac",
   "metadata": {},
   "outputs": [],
   "source": [
    "import pandas as pd\n",
    "import matplotlib.pyplot as plt\n",
    "import seaborn as sns\n",
    "from sklearn.metrics import confusion_matrix, classification_report, ConfusionMatrixDisplay\n",
    "\n",
    "# Recarregar os dados e reusar os resultados\n",
    "df = pd.read_csv(\"../data/vehicle_sensor_data.csv\")\n",
    "\n"
   ]
  },
  {
   "cell_type": "code",
   "execution_count": 13,
   "id": "576856d8-e42e-42ed-abdc-8917b3bd49c1",
   "metadata": {},
   "outputs": [],
   "source": [
    "from sklearn.model_selection import train_test_split\n",
    "from sklearn.ensemble import RandomForestClassifier\n",
    "from sklearn.metrics import confusion_matrix, classification_report\n",
    "\n",
    "# Recarregar o dataset e preparar dados\n",
    "df = pd.read_csv(\"../data/vehicle_sensor_data.csv\")\n",
    "\n",
    "X = df.drop('failure', axis=1)\n",
    "y = df['failure']\n",
    "X_train, X_test, y_train, y_test = train_test_split(X, y, test_size=0.2, stratify=y, random_state=42)\n",
    "\n",
    "# Treinar novamente e gerar previsões\n",
    "model = RandomForestClassifier(random_state=42, class_weight='balanced')\n",
    "model.fit(X_train, y_train)\n",
    "y_pred = model.predict(X_test)\n"
   ]
  },
  {
   "cell_type": "code",
   "execution_count": 14,
   "id": "9c069bcf-b3f5-4176-aa71-13d7b22f6f8c",
   "metadata": {},
   "outputs": [
    {
     "data": {
      "image/png": "[encoded data removed]",
      "text/plain": [
       "<Figure size 600x400 with 2 Axes>"
      ]
     },
     "metadata": {},
     "output_type": "display_data"
    }
   ],
   "source": [
    "# Matriz de confusão\n",
    "cm = confusion_matrix(y_test, y_pred)\n",
    "\n",
    "plt.figure(figsize=(6,4))\n",
    "sns.heatmap(cm, annot=True, fmt=\"d\", cmap=\"Blues\", xticklabels=['Normal','Falha'], yticklabels=['Normal','Falha'])\n",
    "plt.xlabel(\"Previsão\")\n",
    "plt.ylabel(\"Valor real\")\n",
    "plt.title(\"Matriz de Confusão - Modelo Final\")\n",
    "plt.show()\n"
   ]
  },
  {
   "cell_type": "code",
   "execution_count": 15,
   "id": "5da7b8cf-882a-436f-8c66-8b8b507394fd",
   "metadata": {},
   "outputs": [
    {
     "name": "stdout",
     "output_type": "stream",
     "text": [
      "🔎 Relatório de Classificação:\n",
      "\n",
      "              precision    recall  f1-score   support\n",
      "\n",
      "      Normal       1.00      1.00      1.00       993\n",
      "       Falha       1.00      0.86      0.92         7\n",
      "\n",
      "    accuracy                           1.00      1000\n",
      "   macro avg       1.00      0.93      0.96      1000\n",
      "weighted avg       1.00      1.00      1.00      1000\n",
      "\n",
      "✅ Acurácia Geral: 0.9990\n"
     ]
    }
   ],
   "source": [
    "from sklearn.metrics import classification_report, accuracy_score\n",
    "\n",
    "# Relatório completo\n",
    "report = classification_report(y_test, y_pred, target_names=['Normal', 'Falha'])\n",
    "print(\"🔎 Relatório de Classificação:\\n\")\n",
    "print(report)\n",
    "\n",
    "# Acurácia geral\n",
    "accuracy = accuracy_score(y_test, y_pred)\n",
    "print(f\"✅ Acurácia Geral: {accuracy:.4f}\")\n"
   ]
  },
  {
   "cell_type": "code",
   "execution_count": null,
   "id": "2e7b7c4c-d869-4669-8ffe-432bd7c7aa1d",
   "metadata": {},
   "outputs": [],
   "source": []
  }
 ],
 "metadata": {
  "kernelspec": {
   "display_name": "Python 3 (ipykernel)",
   "language": "python",
   "name": "python3"
  },
  "language_info": {
   "codemirror_mode": {
    "name": "ipython",
    "version": 3
   },
   "file_extension": ".py",
   "mimetype": "text/x-python",
   "name": "python",
   "nbconvert_exporter": "python",
   "pygments_lexer": "ipython3",
   "version": "3.9.6"
  }
 },
 "nbformat": 4,
 "nbformat_minor": 5
}
