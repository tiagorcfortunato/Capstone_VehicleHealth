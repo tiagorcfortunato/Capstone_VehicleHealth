{
 "cells": [
  {
   "cell_type": "code",
   "execution_count": 9,
   "id": "26a4ff5f-d8e4-491c-ac6c-90dad92f8ef8",
   "metadata": {},
   "outputs": [],
   "source": [
    "import pandas as pd\n",
    "from sklearn.model_selection import train_test_split\n",
    "from sklearn.ensemble import RandomForestClassifier\n",
    "from sklearn.metrics import classification_report, confusion_matrix\n",
    "\n",
    "# Carregar o dataset\n",
    "df = pd.read_csv(\"vehicle_sensor_data.csv\")\n",
    "\n",
    "# Separar features e target\n",
    "X = df.drop('failure', axis=1)\n",
    "y = df['failure']\n",
    "\n",
    "# Dividir entre treino e teste (80/20)\n",
    "X_train, X_test, y_train, y_test = train_test_split(X, y, test_size=0.2, random_state=42, stratify=y)\n"
   ]
  },
  {
   "cell_type": "code",
   "execution_count": 10,
   "id": "30665e05-492d-4d35-a2c0-05fbc81bc61c",
   "metadata": {},
   "outputs": [],
   "source": [
    "# Treinar modelo Random Forest\n",
    "model = RandomForestClassifier(random_state=42, class_weight='balanced')\n",
    "model.fit(X_train, y_train)\n",
    "\n",
    "# Fazer previsões\n",
    "y_pred = model.predict(X_test)\n"
   ]
  },
  {
   "cell_type": "code",
   "execution_count": 11,
   "id": "5ac99a23-5345-4187-879f-9bab743b7353",
   "metadata": {},
   "outputs": [],
   "source": [
    "from sklearn.model_selection import train_test_split\n",
    "from sklearn.ensemble import RandomForestClassifier\n",
    "from sklearn.metrics import confusion_matrix, classification_report\n",
    "\n",
    "# Preparar dados novamente\n",
    "X = df.drop('failure', axis=1)\n",
    "y = df['failure']\n",
    "X_train, X_test, y_train, y_test = train_test_split(X, y, test_size=0.2, stratify=y, random_state=42)\n",
    "\n",
    "# Recriar o modelo e as previsões\n",
    "model = RandomForestClassifier(random_state=42, class_weight='balanced')\n",
    "model.fit(X_train, y_train)\n",
    "y_pred = model.predict(X_test)\n"
   ]
  },
  {
   "cell_type": "code",
   "execution_count": 12,
   "id": "272c0b91-31f4-45b8-a663-cdf8c650a3a8",
   "metadata": {},
   "outputs": [
    {
     "name": "stdout",
     "output_type": "stream",
     "text": [
      "              precision    recall  f1-score   support\n",
      "\n",
      "           0       1.00      1.00      1.00       993\n",
      "           1       1.00      0.86      0.92         7\n",
      "\n",
      "    accuracy                           1.00      1000\n",
      "   macro avg       1.00      0.93      0.96      1000\n",
      "weighted avg       1.00      1.00      1.00      1000\n",
      "\n",
      "Matriz de Confusão:\n",
      "[[993   0]\n",
      " [  1   6]]\n"
     ]
    }
   ],
   "source": [
    "# Relatório de classificação\n",
    "print(classification_report(y_test, y_pred, zero_division=0))\n",
    "\n",
    "# Matriz de confusão\n",
    "cm = confusion_matrix(y_test, y_pred)\n",
    "print(\"Matriz de Confusão:\")\n",
    "print(cm)\n"
   ]
  },
  {
   "cell_type": "code",
   "execution_count": null,
   "id": "4506b8ff-73d7-4f32-96d3-883f26a2219f",
   "metadata": {},
   "outputs": [],
   "source": []
  }
 ],
 "metadata": {
  "kernelspec": {
   "display_name": "Python 3 (ipykernel)",
   "language": "python",
   "name": "python3"
  },
  "language_info": {
   "codemirror_mode": {
    "name": "ipython",
    "version": 3
   },
   "file_extension": ".py",
   "mimetype": "text/x-python",
   "name": "python",
   "nbconvert_exporter": "python",
   "pygments_lexer": "ipython3",
   "version": "3.9.6"
  }
 },
 "nbformat": 4,
 "nbformat_minor": 5
}
